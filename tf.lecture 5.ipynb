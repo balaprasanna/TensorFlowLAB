{
 "cells": [
  {
   "cell_type": "code",
   "execution_count": 1,
   "metadata": {
    "collapsed": true
   },
   "outputs": [],
   "source": [
    "import tensorflow as tf\n",
    "\n",
    "x_data = [[1,2],[2,3],[3,1],[4,3],[5,3],[6,2]]\n",
    "y_data = [[0],[0],[0],[1],[1],[1]]\n",
    "\n",
    "# placeholders for a tensor that will be always fed.\n",
    "X = tf.placeholder(tf.float32, shape=[None,2])\n",
    "Y = tf.placeholder(tf.float32, shape=[None,1])"
   ]
  },
  {
   "cell_type": "code",
   "execution_count": 2,
   "metadata": {
    "collapsed": true
   },
   "outputs": [],
   "source": [
    "W = tf.Variable(tf.random_normal([2,1]),name='weight')\n",
    "b = tf.Variable(tf.random_normal([1]),name='bias')"
   ]
  },
  {
   "cell_type": "code",
   "execution_count": 3,
   "metadata": {
    "collapsed": true
   },
   "outputs": [],
   "source": [
    "# Hypothesis using sigmoid: tf.div(1.,1.+tf.exp(tf.matmul(X,W)+b))\n",
    "hypothesis = tf.sigmoid(tf.matmul(X,W)+b)"
   ]
  },
  {
   "cell_type": "code",
   "execution_count": 4,
   "metadata": {
    "collapsed": true
   },
   "outputs": [],
   "source": [
    "# cost/loss function\n",
    "cost = -tf.reduce_mean(Y*tf.log(hypothesis)+(1-Y)*\n",
    "                       tf.log(1-hypothesis))\n",
    "train = tf.train.GradientDescentOptimizer(learning_rate=0.01).minimize(cost)"
   ]
  },
  {
   "cell_type": "code",
   "execution_count": 5,
   "metadata": {
    "collapsed": true
   },
   "outputs": [],
   "source": [
    "# Accuracy computation\n",
    "# True if hypothesis > 0.5 else False\n",
    "predicted = tf.cast(hypothesis > 0.5, dtype=tf.float32)\n",
    "accuracy = tf.reduce_mean(tf.cast(tf.equal(predicted,Y),dtype=tf.float32))"
   ]
  },
  {
   "cell_type": "code",
   "execution_count": 7,
   "metadata": {},
   "outputs": [
    {
     "name": "stdout",
     "output_type": "stream",
     "text": [
      "0 1.36114\n",
      "200 0.571438\n",
      "400 0.550048\n",
      "600 0.529857\n",
      "800 0.510675\n",
      "1000 0.492403\n",
      "1200 0.474981\n",
      "1400 0.458366\n",
      "1600 0.442525\n",
      "1800 0.427429\n",
      "2000 0.41305\n",
      "2200 0.39936\n",
      "2400 0.386331\n",
      "2600 0.373935\n",
      "2800 0.362141\n",
      "3000 0.350922\n",
      "3200 0.34025\n",
      "3400 0.330096\n",
      "3600 0.320433\n",
      "3800 0.311236\n",
      "4000 0.302477\n",
      "4200 0.294134\n",
      "4400 0.286183\n",
      "4600 0.278602\n",
      "4800 0.271371\n",
      "5000 0.264468\n",
      "5200 0.257876\n",
      "5400 0.251577\n",
      "5600 0.245554\n",
      "5800 0.239793\n",
      "6000 0.234277\n",
      "6200 0.228994\n",
      "6400 0.22393\n",
      "6600 0.219074\n",
      "6800 0.214414\n",
      "7000 0.209939\n",
      "7200 0.20564\n",
      "7400 0.201507\n",
      "7600 0.197531\n",
      "7800 0.193705\n",
      "8000 0.19002\n",
      "8200 0.186469\n",
      "8400 0.183046\n",
      "8600 0.179744\n",
      "8800 0.176557\n",
      "9000 0.173479\n",
      "9200 0.170506\n",
      "9400 0.167632\n",
      "9600 0.164853\n",
      "9800 0.162164\n",
      "10000 0.15956\n",
      "\n",
      "Hypothesis:  [[ 0.03508462]\n",
      " [ 0.16434619]\n",
      " [ 0.32502431]\n",
      " [ 0.77231926]\n",
      " [ 0.93372077]\n",
      " [ 0.97822452]] \n",
      "Correct (Y):  [[ 0.]\n",
      " [ 0.]\n",
      " [ 0.]\n",
      " [ 1.]\n",
      " [ 1.]\n",
      " [ 1.]] \n",
      "Accuracy:  1.0\n"
     ]
    }
   ],
   "source": [
    "# Launch graph\n",
    "with tf.Session() as sess:\n",
    "    # Initialize TensorFlow variables\n",
    "    sess.run(tf.global_variables_initializer())\n",
    "    for step in range(10001):\n",
    "        cost_val, _ = sess.run([cost,train],feed_dict={X:x_data,Y:y_data})\n",
    "        if step % 200 == 0:\n",
    "            print(step, cost_val)\n",
    "    # Accuracy report\n",
    "    h,c,a = sess.run([hypothesis,predicted,accuracy],\n",
    "                    feed_dict={X:x_data,Y:y_data})\n",
    "    print(\"\\nHypothesis: \",h,\"\\nCorrect (Y): \",c,\"\\nAccuracy: \", a)"
   ]
  },
  {
   "cell_type": "code",
   "execution_count": null,
   "metadata": {
    "collapsed": true
   },
   "outputs": [],
   "source": []
  }
 ],
 "metadata": {
  "kernelspec": {
   "display_name": "Python 3",
   "language": "python",
   "name": "python3"
  },
  "language_info": {
   "codemirror_mode": {
    "name": "ipython",
    "version": 3
   },
   "file_extension": ".py",
   "mimetype": "text/x-python",
   "name": "python",
   "nbconvert_exporter": "python",
   "pygments_lexer": "ipython3",
   "version": "3.6.1"
  }
 },
 "nbformat": 4,
 "nbformat_minor": 2
}
